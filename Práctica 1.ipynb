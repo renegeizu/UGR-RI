{
 "cells": [
  {
   "cell_type": "markdown",
   "metadata": {},
   "source": [
    "# Análisis Cinemático del Manipulador RR\n",
    "*Práctica 1. Robótica Industrial*"
   ]
  },
  {
   "cell_type": "markdown",
   "metadata": {},
   "source": [
    "## Cálculo del problema cinemático directo\n",
    "Con las herramientas tan simples que hemos utilizado en esta fase anterior, podemos ya realizar un análisis de problemas robóticos. Por ejemplo, podríamos dibujar 21 puntos de la trayectoria que recorre un efector de un **manipulador tipo RR** (por Rotación-Rotación, es decir, sus dos articulaciones son de rotación). \n",
    "\n",
    "<img src=\"data:image/png;base64,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\" />\n",
    "\n",
    "Supongamos que sus enlaces tienen longitud $L_1 = L_2 = 1$, y las variables de rotación $\\theta_1$ y $\\theta_2$ varían uniformemente de 0 a $\\pi/2$. Sabemos que las ecuaciones de la trayectoria son las siguientes: \n",
    "$$p_x = L_1\\cos(\\theta_1) + L_2\\cos(\\theta_1+\\theta_2)$$\n",
    "$$p_y = L_1\\sin(\\theta_1) + L_2\\sin(\\theta_1+\\theta_2)$$\n",
    "\n",
    "Podemos dibujar todos los puntos de la trayectoria mediante el código: "
   ]
  },
  {
   "cell_type": "code",
   "execution_count": null,
   "metadata": {},
   "outputs": [],
   "source": [
    "%matplotlib inline\n",
    "\n",
    "import matplotlib.pyplot as plt\n",
    "import numpy as np\n",
    "\n",
    "L1 = 1\n",
    "L2 = 1\n",
    "th1 = np.arange(0, np.pi/2, np.pi/20)\n",
    "th2 = np.arange(0, np.pi/2, np.pi/20)\n",
    "px = L1 * np.cos(th1) + L2 * np.cos(th1 + th2)\n",
    "py = L1 * np.sin(th1) + L2 * np.sin(th1 + th2)\n",
    "plt.plot(px,py)"
   ]
  },
  {
   "cell_type": "markdown",
   "metadata": {},
   "source": [
    "## Función para el Problema Cinemático Directo\n",
    "Cuando utilizamos algunas de las funciones varias veces, es conveniente definir funciones que realicen esa tarea, para conseguir una limpieza de código. En Jupyter, las funciones se definen de la misma forma que en Python convencional, es decir, utilizando el comando **def**. Para definir una función que calcule la trayectoria anterior podemos escribir: "
   ]
  },
  {
   "cell_type": "code",
   "execution_count": null,
   "metadata": {},
   "outputs": [],
   "source": [
    "def pcd(L1, L2, th1, th2):\n",
    "    px = L1 * np.cos(th1) + L2 * np.cos(th1 + th2)\n",
    "    py = L1 * np.sin(th1) + L2 * np.sin(th1 + th2)\n",
    "    return np.c_[px, py]"
   ]
  },
  {
   "cell_type": "markdown",
   "metadata": {},
   "source": [
    "Al final, debemos juntar los vectores `px` y `py` en una matriz de tipo `np.array`, de forma que la primera columna `p[:,0]` contenga los valores $x$ y `p[:,1]` los valores de $y$. De este modo, el código anterior nos quedaría:"
   ]
  },
  {
   "cell_type": "code",
   "execution_count": null,
   "metadata": {
    "scrolled": false
   },
   "outputs": [],
   "source": [
    "p = pcd(1, 1, th1, th2)\n",
    "fig, ax = plt.subplots()\n",
    "ax.plot(p[:, 0], p[:, 1])"
   ]
  },
  {
   "cell_type": "markdown",
   "metadata": {},
   "source": [
    "Es **importante** que veas que esta vez hemos utilizado ĺa función `plt.subplots()` para generar una figura (`fig`) y un objeto \"ejes\" dentro de la figura (`ax`), en lugar de usar directamente `plt.plot()`. Esto será muy útil más adelante, puesto que podremos especificar siempre el eje sobre el que queremos pintar. "
   ]
  },
  {
   "cell_type": "markdown",
   "metadata": {},
   "source": [
    "## Configuración espacial del robot\n",
    "Hasta ahora sólo hemos dibujado la trayectoria que sigue el efector del robot. Sin embargo, nos puede ser de utilidad ver la configuración del robot (variables de articulación) en cada momento de la trayectoria. Para ello, podemos crear una función que nos muestre el robot, dados los parámetros del robot $L_1$, $\\theta_1$ y la posición del efector `p` (un vector que contiene `px` y `py` en ese instante). Esta función tendría una forma similar a: "
   ]
  },
  {
   "cell_type": "code",
   "execution_count": null,
   "metadata": {},
   "outputs": [],
   "source": [
    "def robot(L1, th1, p, ax):\n",
    "    x = [0, L1 * np.cos(th1), p[0]]\n",
    "    y = [0, L1 * np.sin(th1), p[1]]\n",
    "    ax.plot(x, y, color = 'k', linewidth = 2)\n",
    "    ax.axis([-2, 2, -2, 2])\n",
    "    ax.set_aspect('equal')"
   ]
  },
  {
   "cell_type": "markdown",
   "metadata": {},
   "source": [
    "El código anterior muestra una línea que va desde el origen de coordenadas $(0,0)$ donde está situada la primera articulación $J_1$ hasta la segunda articulación del robot $J_2$, y luego hasta el punto final del mismo. Hemos aumentado el grosor de esta línea y cambiado el color a negro (k) para diferenciarlo bien de la trayectoria. Usaremos el objeto ejes (`ax`), que contiene las funciones `plot`, `axis` y `set_aspect`, para dibujar, establecer los límites y mantener la misma proporción en los ejes $x$ e $y$ todo el rato. \n",
    "\n",
    "**Ahora podemos probar a pintar el robot con una determinada configuración espacial, por ejemplo, $\\theta_1=30^{\\circ}$ y $\\theta_2=60^{\\circ}$. **"
   ]
  },
  {
   "cell_type": "code",
   "execution_count": null,
   "metadata": {
    "scrolled": true
   },
   "outputs": [],
   "source": [
    "th1 = np.degrees(30)\n",
    "th2 = np.degrees(60)\n",
    "p = pcd(1, 1, th1, th2)\n",
    "fig, ax = plt.subplots()\n",
    "robot(1, th1, p[-1], ax)"
   ]
  },
  {
   "cell_type": "markdown",
   "metadata": {},
   "source": [
    "**Ejercicio (20 pts)**. Mezclar las dos imágenes anteriores, representando la trayectoria hasta un determinado punto y el brazo robótico en dicho punto. Completa el siguiente código para hacerlo. Recuerda que para pintar el robot solo tenemos que darle el último valor de `th1` y de `p`."
   ]
  },
  {
   "cell_type": "code",
   "execution_count": null,
   "metadata": {},
   "outputs": [],
   "source": [
    "L1 = 1\n",
    "L2 = 1\n",
    "punto = 20\n",
    "Npuntos = 50\n",
    "th1 = np.arange(0, (punto * np.pi)/(2 * Npuntos), np.pi/Npuntos)\n",
    "th2 = np.arange(0, (punto * np.pi)/(2 * Npuntos), np.pi/Npuntos)\n",
    "p = pcd(L1, L2, th1, th2)"
   ]
  },
  {
   "cell_type": "code",
   "execution_count": null,
   "metadata": {
    "scrolled": true
   },
   "outputs": [],
   "source": [
    "fig, ax = plt.subplots()\n",
    "ax.plot(p[:, 0], p[:, 1])\n",
    "robot(L1, th1[-1], p[-1], ax)"
   ]
  },
  {
   "cell_type": "markdown",
   "metadata": {},
   "source": [
    "## Trazado de la Trayectoria\n",
    "Para visualizar mejor la trayectoria, vamos a construir una animación. Para ello, importamos las herramientas necesarias.\n"
   ]
  },
  {
   "cell_type": "code",
   "execution_count": null,
   "metadata": {},
   "outputs": [],
   "source": [
    "from matplotlib import animation\n",
    "from IPython.display import HTML"
   ]
  },
  {
   "cell_type": "markdown",
   "metadata": {},
   "source": [
    "Para realizar la animación necesitamos crear los diferentes *frames* de la misma, y para ello necesitamos crear una figura y unos ejes (`fig`, `ax`) que habrá que limpiar en cada frame. Para ello, utilizaremos la función `init`:"
   ]
  },
  {
   "cell_type": "code",
   "execution_count": null,
   "metadata": {},
   "outputs": [],
   "source": [
    "def init(ax):\n",
    "    ax.clear() # Limpiamos los ejes actuales\n",
    "    ax.set_xlabel('Eje X')\n",
    "    ax.set_ylabel('Eje Y')\n",
    "    ax.set_xlim(-2, 2) # Establece los límites del eje x\n",
    "    ax.set_ylim(-2, 2) # y del eje y\n",
    "    ax.set_aspect('equal') # Hace que la proporción de ambos ejes sea 1:1"
   ]
  },
  {
   "cell_type": "markdown",
   "metadata": {},
   "source": [
    "Ahora tenemos que definir la función `pintarPCD` que es la que va a producir la animación, integrando las funciones `plot` y `robot`."
   ]
  },
  {
   "cell_type": "code",
   "execution_count": null,
   "metadata": {},
   "outputs": [],
   "source": [
    "def pintarPCD(i, L1, L2, Npuntos, ax):\n",
    "    init(ax)\n",
    "    th1 = np.arange(0, np.pi/2, 0.5*np.pi/Npuntos)\n",
    "    th2 = np.arange(0, np.pi/2, 0.5*np.pi/Npuntos)\n",
    "    p = pcd(L1, L2, th1, th2)\n",
    "    ax.plot(p[:i,0], p[:i,1])\n",
    "    robot(L1, th1[i], p[i], ax)"
   ]
  },
  {
   "cell_type": "markdown",
   "metadata": {},
   "source": [
    "Tras esto, crearemos la animación con el siguiente código. A la función `FuncAnimation` le pasaremos una serie de parámetros. El primero será `fig`, que será la figura donde se muestre toda la animación, y que ya hemos creado anteriormente. Después hemos puesto la función que realiza la animación, en nuestro caso se llama `pintarPCD` y ha sido definida en la anterior pieza de código. Después se le pasa el número de frames que se va a usar. Este número de frames es el parámetro `i` que recibe la función `pintarPCD`. El siguiente parámetro se llama `fargs`. que son los argumentos restantes que le pasamos a la función `pintarPCD`, en este caso (0, 1, `N`) son los valores para 'L1', 'L2', 'Npuntos' en la función `pintarPCD`. Y lo último que aparece es el parámetro `interval` que indica el intervalo entre frames en milisegundos.\n",
    "\n",
    "**Ejercicio (30 pts): Tras todas estas funciones, convertimos la animación `anim` en un video reproducible en HTML5, y lo reproducimos con el comando `HTML(anim.to_html5_video())`.** "
   ]
  },
  {
   "cell_type": "code",
   "execution_count": null,
   "metadata": {},
   "outputs": [],
   "source": [
    "fig, ax = plt.subplots()\n",
    "anim = animation.FuncAnimation(fig, pintarPCD, frames = Npuntos, fargs = (1, 1, Npuntos, ax), interval = 30) \n",
    "HTML(anim.to_jshtml())"
   ]
  },
  {
   "cell_type": "markdown",
   "metadata": {},
   "source": [
    "## Problema Cinemático Inverso\n",
    "Quizá te habrás preguntado (seguro que sí) si conocer de antemano las variables de articulación es lo normal. Por supuesto que no. Normalmente, el problema es precisamente conocer las variables de articulación a partir del punto donde queremos que esté el actuador del robot. Esto es lo que se conoce como **Problema Cinemático Inverso** (PCI). Las ecuaciones del PCI para el robot RR son: \n",
    "\n",
    "$$ \\cos\\theta_2 = \\frac{x^2+y^2-L_1^2 -L_2^2}{2L_1 L_2}$$\n",
    "\n",
    "$$ \\tan\\theta_1 = \\frac{y(L_1 + L_2\\cos\\theta_2)-xL_2\\sin\\theta_2}{x(L_1 + L_2\\cos\\theta_2)+yL_2\\sin\\theta_2}$$\n",
    "\n",
    "Ahora vamos a representar trayectorias. Para ello utilizaremos una aproximación de trayectoria rectilínea. De esta forma, los puntos por los que pasa el actuador se pueden parametrizar como: \n",
    "\n",
    "$$ x_n = x_{ini} + \\frac{x_{fin}-x_{ini}}{N}n$$\n",
    "\n",
    "$$ y_n = y_{ini} + \\frac{y_{fin}-y_{ini}}{N}n$$\n",
    "\n",
    "donde $n=0,1\\dots N$ y $n$ representa el numero de punto en una trayectoria de `N+1` puntos. \n",
    "\n",
    "**Ahora vamos a escribir un programa que simule el movimiento del robot y dibuje la trayectoria (similar al realizado en el apartado anterior) para un movimiento rectilíneo entre dos puntos cualesquiera. Para ello, se utilizara la función `robot` de los apartados anteriores y se construira una nueva función `pci` que implemente las ecuaciones del PCI.  Debe tenerse en cuenta que las funciones `np.arccos` y `np.arctan` de NumPy toman valores en los intervalos $(0, \\pi)$ y $(-\\pi/2,\\pi/2)$ respectivamente**. "
   ]
  },
  {
   "cell_type": "code",
   "execution_count": null,
   "metadata": {},
   "outputs": [],
   "source": [
    "def pci(L1, L2, x, y):\n",
    "    th2 = np.arccos((x * x + y * y - L1 * L1 - L2 * L2)/(2 * L1 * L2))\n",
    "    sinTh2 = np.sin(th2)\n",
    "    cosTh2 = np.cos(th2)\n",
    "    th1 = np.arctan((y * (L1 + L2 * cosTh2) - (x * L2 * sinTh2))/(x * (L1 + L2 * cosTh2) + (y * L2 * sinTh2)))\n",
    "    return np.c_[th1, th2]"
   ]
  },
  {
   "cell_type": "code",
   "execution_count": null,
   "metadata": {},
   "outputs": [],
   "source": [
    "def pintarPCI1(i, L1, L2, pini, pfin, Npuntos, ax):\n",
    "    init(ax)\n",
    "    x = pini[0] + ((pfin[0] - pini[0])/Npuntos) * np.arange(Npuntos)\n",
    "    y = pini[1] + ((pfin[1] - pini[1])/Npuntos) * np.arange(Npuntos)\n",
    "    p = np.c_[x[i], y[i]]\n",
    "    th = pci(L1, L2, x[i], y[i])\n",
    "    robot(L1, th[:, 0], p[-1], ax)\n",
    "    pp = np.c_[x, y]\n",
    "    ax.plot(pp[:i, 0], pp[:i, 1])"
   ]
  },
  {
   "cell_type": "markdown",
   "metadata": {},
   "source": [
    "Probaremos las siguientes trayectorias: \n",
    "\n",
    "- **Trayectoria 1 (10 pts)**: $(x_{ini}, y_{ini})=(2,0)$ y $(x_{fin}, y_{fin})=(0,2)$"
   ]
  },
  {
   "cell_type": "code",
   "execution_count": null,
   "metadata": {},
   "outputs": [],
   "source": [
    "fig, ax = plt.subplots()\n",
    "anim = animation.FuncAnimation(fig, pintarPCI1, frames = Npuntos, fargs = (1, 1, [2, 0], [0, 2], Npuntos, ax), interval = 30)\n",
    "HTML(anim.to_jshtml())"
   ]
  },
  {
   "cell_type": "markdown",
   "metadata": {},
   "source": [
    "- **Trayectoria 2 (20 pts)**: $(x_{ini}, y_{ini})=(1,1)$ y $(x_{fin}, y_{fin})=(-1,0)$. "
   ]
  },
  {
   "cell_type": "code",
   "execution_count": null,
   "metadata": {},
   "outputs": [],
   "source": [
    "fig, ax = plt.subplots()\n",
    "anim = animation.FuncAnimation(fig, pintarPCI1, frames = Npuntos, fargs = (1, 1, [1, 1], [-1, 0], Npuntos, ax), interval = 30)\n",
    "HTML(anim.to_jshtml())"
   ]
  },
  {
   "cell_type": "markdown",
   "metadata": {},
   "source": [
    "Verás que no funciona correctamente. Esto sucede porque la función `arctan` no determina correctamente el cuadrante de la solución. Esto causa problemas de continuidad, por lo que debemos utilizar la función `arctan2` para sustituir a la anterior. Utiliza la ayuda para conocer los parámetros de esta función, y reescribe la función `pci` y `pintarPCI` para poder utilizarlas. "
   ]
  },
  {
   "cell_type": "code",
   "execution_count": null,
   "metadata": {},
   "outputs": [],
   "source": [
    "def pci2(L1, L2, x, y):\n",
    "    th2 = np.arccos((x * x + y * y - L1 * L1 - L2 * L2)/(2 * L1 * L2))\n",
    "    sinTh2 = np.sin(th2)\n",
    "    cosTh2 = np.cos(th2)\n",
    "    th1 = np.arctan2((y * (L1 + L2 * cosTh2) - (x * L2 * sinTh2)), (x * (L1 + L2 * cosTh2) + (y * L2 * sinTh2)))\n",
    "    return np.c_[th1, th2]\n",
    "\n",
    "def pintarPCI2(i, L1, L2, pini, pfin, Npuntos, ax):\n",
    "    init(ax)\n",
    "    x = pini[0] + ((pfin[0] - pini[0])/Npuntos) * np.arange(Npuntos)\n",
    "    y = pini[1] + ((pfin[1] - pini[1])/Npuntos) * np.arange(Npuntos)\n",
    "    p = np.c_[x[i], y[i]]\n",
    "    th = pci2(L1, L2, x[i], y[i])\n",
    "    robot(L1, th[:, 0], p[-1], ax)\n",
    "    pp = np.c_[x, y]\n",
    "    ax.plot(pp[:i, 0], pp[:i, 1])"
   ]
  },
  {
   "cell_type": "code",
   "execution_count": null,
   "metadata": {
    "scrolled": true
   },
   "outputs": [],
   "source": [
    "fig, ax = plt.subplots()\n",
    "anim = animation.FuncAnimation(fig, pintarPCI2, frames = Npuntos, fargs = (1, 1, [1, 1], [-1, 0], Npuntos, ax), interval = 30)\n",
    "HTML(anim.to_jshtml())"
   ]
  },
  {
   "cell_type": "markdown",
   "metadata": {},
   "source": [
    "- **Trayectoria 3 (20 pts)**: $(x_{ini}, y_{ini})=(1,0)$ y $(x_{fin}, y_{fin})=(-1,0)$. "
   ]
  },
  {
   "cell_type": "code",
   "execution_count": null,
   "metadata": {},
   "outputs": [],
   "source": [
    "fig, ax = plt.subplots()\n",
    "anim = animation.FuncAnimation(fig, pintarPCI2, frames = Npuntos, fargs = (1, 1, [1, 0], [-1, 0], Npuntos, ax), interval = 30)\n",
    "HTML(anim.to_jshtml())"
   ]
  },
  {
   "cell_type": "markdown",
   "metadata": {},
   "source": [
    "Como ves, volvemos a tener problemas de continuidad. Esto es porque la función $\\arccos$ devuelve dos resultados: el ángulo positivo que nos devuelve `arccos()`, y el mismo pero con signo negativo. Para escoger una solución u otra, puede tomarse el siguiente criterio: dado que $\\theta_1$ se obtiene a partir de $\\theta_2$, es lógico seleccionar la solución de $\\arccos(\\theta_2)$ que hace que el incremento en $\\theta_1$ desde el punto anterior de la trayectoria al actual sea el menor posible.\n"
   ]
  },
  {
   "cell_type": "code",
   "execution_count": null,
   "metadata": {},
   "outputs": [],
   "source": [
    "def pci3(L1, L2, x, y):\n",
    "    th2 = np.arccos((x * x + y * y - L1 * L1 - L2 * L2)/(2 * L1 * L2))\n",
    "    sinTh2 = np.sin(th2)\n",
    "    cosTh2 = np.cos(th2)\n",
    "    th1 = np.arctan2((y * (L1 + L2 * cosTh2) - (x * L2 * sinTh2)), (x * (L1 + L2 * cosTh2) + (y * L2 * sinTh2)))\n",
    "    sinTh2 = np.sin(-th2)\n",
    "    cosTh2 = np.cos(-th2)\n",
    "    th1_neg = np.arctan2((y * (L1 + L2 * cosTh2) - (x * L2 * sinTh2)), (x * (L1 + L2 * cosTh2) + (y * L2 * sinTh2)))\n",
    "    if th1 >= 0:\n",
    "        return np.c_[th1, th2]\n",
    "    else:\n",
    "        return np.c_[th1_neg, -th2]\n",
    "\n",
    "def pintarPCI3(i, L1, L2, pini, pfin, Npuntos, ax):\n",
    "    init(ax)\n",
    "    x = pini[0] + ((pfin[0] - pini[0])/Npuntos) * np.arange(Npuntos)\n",
    "    y = pini[1] + ((pfin[1] - pini[1])/Npuntos) * np.arange(Npuntos)\n",
    "    p = np.c_[x[i], y[i]]\n",
    "    th = pci3(L1, L2, x[i], y[i])\n",
    "    robot(L1, th[:, 0], p[-1], ax)\n",
    "    pp = np.c_[x, y]\n",
    "    ax.plot(pp[:i, 0], pp[:i, 1])"
   ]
  },
  {
   "cell_type": "code",
   "execution_count": null,
   "metadata": {
    "scrolled": true
   },
   "outputs": [],
   "source": [
    "fig, ax = plt.subplots()\n",
    "anim = animation.FuncAnimation(fig, pintarPCI3, frames = Npuntos, fargs = (1, 1, [1, 0], [-1, 0], Npuntos, ax), interval = 30)\n",
    "HTML(anim.to_jshtml())"
   ]
  }
 ],
 "metadata": {
  "kernelspec": {
   "display_name": "Python 3",
   "language": "python",
   "name": "python3"
  },
  "language_info": {
   "codemirror_mode": {
    "name": "ipython",
    "version": 3
   },
   "file_extension": ".py",
   "mimetype": "text/x-python",
   "name": "python",
   "nbconvert_exporter": "python",
   "pygments_lexer": "ipython3",
   "version": "3.7.1"
  }
 },
 "nbformat": 4,
 "nbformat_minor": 2
}
